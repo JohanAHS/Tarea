{
 "cells": [
  {
   "cell_type": "markdown",
   "id": "20f307bd-9657-4b0b-bea0-d43a8fb87fc1",
   "metadata": {},
   "source": [
    "# TAREA-PARTE 1\n",
    "## Pruebas de descarga de Anaconda  \n",
    "\n",
    "Aquí se ven las diferentes pruebas de la descarga de **Anaconda** en la computadora y el video de referencia de como descargar **Anaconda** en el computador."
   ]
  },
  {
   "cell_type": "markdown",
   "id": "774e539a-8af3-4281-84b7-9192f42d73c4",
   "metadata": {},
   "source": [
    "### Video usado para la descarga de Anaconda  "
   ]
  },
  {
   "cell_type": "markdown",
   "id": "017c00a2-8261-4cee-8786-8b1bba92f33f",
   "metadata": {},
   "source": [
    "[Link del video desde YouTube (Click aquí)](https://www.youtube.com/watch?v=tXekbwrgxL0)"
   ]
  },
  {
   "cell_type": "markdown",
   "id": "892b06bb-0911-4528-b634-37ce204c3033",
   "metadata": {},
   "source": [
    "### IMAGEN DE ANACONDA DESCARGADO  "
   ]
  },
  {
   "cell_type": "markdown",
   "id": "4cf9ebfa-ba66-45b6-8b92-8b429f72a78e",
   "metadata": {},
   "source": [
    "[Link de la imagen de Anaconda descargada (Click aquí)](https://rpubs.com/JohanAHS/DescAnac)"
   ]
  },
  {
   "cell_type": "markdown",
   "id": "b82f2bd3-8e97-4df1-979d-dc83f2370b18",
   "metadata": {},
   "source": [
    "# TAREA-PARTE 2"
   ]
  },
  {
   "cell_type": "markdown",
   "id": "6976556c-b914-462d-a0d8-4c1f04312c77",
   "metadata": {},
   "source": [
    "En esta parte pondre el ejemplo de una fración y binomio  \n",
    "\n",
    "\\begin{equation*}\n",
    "1-\\binom{n}{1}\\frac{1}{2}+\\binom{n}{2}\\frac{1}{2^2}-\\dotsb\n",
    "-\\binom{n}{n-1}\\frac{1}{2^{n-1}}=0\n",
    "\\end{equation*}\n"
   ]
  }
 ],
 "metadata": {
  "kernelspec": {
   "display_name": "Python 3 (ipykernel)",
   "language": "python",
   "name": "python3"
  },
  "language_info": {
   "codemirror_mode": {
    "name": "ipython",
    "version": 3
   },
   "file_extension": ".py",
   "mimetype": "text/x-python",
   "name": "python",
   "nbconvert_exporter": "python",
   "pygments_lexer": "ipython3",
   "version": "3.9.12"
  }
 },
 "nbformat": 4,
 "nbformat_minor": 5
}
